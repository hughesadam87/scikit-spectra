{
 "metadata": {
  "name": "nb_template.ipynb"
 },
 "nbformat": 3,
 "nbformat_minor": 0,
 "worksheets": [
  {
   "cells": [
    {
     "cell_type": "heading",
     "level": 1,
     "metadata": {},
     "source": [
      "Title: <>"
     ]
    },
    {
     "cell_type": "raw",
     "metadata": {},
     "source": [
      "Authors:\n",
      "\n",
      "Date: \n",
      "\n",
      "Description:\n",
      "   < >\n",
      "\n",
      "To do:\n",
      "   < >"
     ]
    },
    {
     "cell_type": "code",
     "collapsed": false,
     "input": [
      "pylab.rcParams['figure.figsize'] = 12,8     #Set plotsize"
     ],
     "language": "python",
     "metadata": {},
     "outputs": []
    }
   ],
   "metadata": {}
  }
 ]
}